{
  "nbformat": 4,
  "nbformat_minor": 0,
  "metadata": {
    "colab": {
      "provenance": [],
      "include_colab_link": true
    },
    "kernelspec": {
      "name": "python3",
      "display_name": "Python 3"
    }
  },
  "cells": [
    {
      "cell_type": "markdown",
      "metadata": {
        "id": "view-in-github",
        "colab_type": "text"
      },
      "source": [
        "<a href=\"https://colab.research.google.com/github/M-8-ops/WEEK-2-PROJECT-MODEL-COMPARISON/blob/main/random_forest_regressionLuxAcad.ipynb\" target=\"_parent\"><img src=\"https://colab.research.google.com/assets/colab-badge.svg\" alt=\"Open In Colab\"/></a>"
      ]
    },
    {
      "cell_type": "markdown",
      "metadata": {
        "id": "LeamvpPVXuS_"
      },
      "source": [
        "# Random Forest Regression"
      ]
    },
    {
      "cell_type": "markdown",
      "source": [],
      "metadata": {
        "id": "DEJh5b6dIxvZ"
      }
    },
    {
      "cell_type": "markdown",
      "metadata": {
        "id": "O2wvZ7SKXzVC"
      },
      "source": [
        "## Importing the libraries"
      ]
    },
    {
      "cell_type": "code",
      "source": [
        "import numpy as np\n",
        "import matplotlib.pyplot as plt\n",
        "import pandas as pd"
      ],
      "metadata": {
        "id": "9mtO0jup1NL8"
      },
      "execution_count": 1,
      "outputs": []
    },
    {
      "cell_type": "markdown",
      "metadata": {
        "id": "zgbK_F8-X7em"
      },
      "source": [
        "## Importing the dataset"
      ]
    },
    {
      "cell_type": "code",
      "source": [
        "dataset = pd.read_csv('MOCK_DATA (8).csv')\n",
        "X = dataset.iloc[:, :-1].values\n",
        "y = dataset.iloc[:, -1].values"
      ],
      "metadata": {
        "id": "RM-mo3vv1UOQ"
      },
      "execution_count": 2,
      "outputs": []
    },
    {
      "cell_type": "markdown",
      "source": [
        "ENCODING THE CATEGORICAL DATA"
      ],
      "metadata": {
        "id": "cFGG2a5D96tE"
      }
    },
    {
      "cell_type": "code",
      "source": [
        "from sklearn.compose import ColumnTransformer\n",
        "from sklearn.preprocessing import OneHotEncoder\n",
        "ct = ColumnTransformer(transformers=[('encoder', OneHotEncoder(), [0])], remainder='passthrough')\n",
        "X = np.array(ct.fit_transform(X))"
      ],
      "metadata": {
        "id": "00OzcbED-GWG"
      },
      "execution_count": 4,
      "outputs": []
    },
    {
      "cell_type": "markdown",
      "source": [
        "SPLITTING THE DATASET INTO TRAINING AND TEST SETS"
      ],
      "metadata": {
        "id": "S2J43vHy-_DO"
      }
    },
    {
      "cell_type": "code",
      "source": [
        "from sklearn.model_selection import train_test_split\n",
        "X_train, X_test, y_train, y_test = train_test_split(X, y, test_size = 0.2, random_state = 0)"
      ],
      "metadata": {
        "id": "iWebjqBZ_F-U"
      },
      "execution_count": 11,
      "outputs": []
    },
    {
      "cell_type": "markdown",
      "source": [
        "FEATURE SCALING"
      ],
      "metadata": {
        "id": "cQDEoBBJ_Pv9"
      }
    },
    {
      "cell_type": "code",
      "source": [
        "from sklearn.preprocessing import StandardScaler\n",
        "sc = StandardScaler()\n",
        "X_train[:, 1:] = sc.fit_transform(X_train[:, 1:])\n",
        "X_test[:, 1:] = sc.transform(X_test[:, 1:])\n"
      ],
      "metadata": {
        "id": "FxL-lai9_T5b"
      },
      "execution_count": 12,
      "outputs": []
    },
    {
      "cell_type": "markdown",
      "metadata": {
        "id": "v4S2fyIBYDcu"
      },
      "source": [
        "## Training the Random Forest Regression model"
      ]
    },
    {
      "cell_type": "code",
      "source": [
        "from sklearn.ensemble import RandomForestRegressor\n",
        "regressor = RandomForestRegressor(n_estimators=10,random_state=0)\n",
        "regressor.fit(X_train,y_train)"
      ],
      "metadata": {
        "colab": {
          "base_uri": "https://localhost:8080/",
          "height": 75
        },
        "id": "6CrjqqMa1gRT",
        "outputId": "f6437932-079c-49e7-8c41-029b4a202267"
      },
      "execution_count": 13,
      "outputs": [
        {
          "output_type": "execute_result",
          "data": {
            "text/plain": [
              "RandomForestRegressor(n_estimators=10, random_state=0)"
            ],
            "text/html": [
              "<style>#sk-container-id-2 {color: black;background-color: white;}#sk-container-id-2 pre{padding: 0;}#sk-container-id-2 div.sk-toggleable {background-color: white;}#sk-container-id-2 label.sk-toggleable__label {cursor: pointer;display: block;width: 100%;margin-bottom: 0;padding: 0.3em;box-sizing: border-box;text-align: center;}#sk-container-id-2 label.sk-toggleable__label-arrow:before {content: \"▸\";float: left;margin-right: 0.25em;color: #696969;}#sk-container-id-2 label.sk-toggleable__label-arrow:hover:before {color: black;}#sk-container-id-2 div.sk-estimator:hover label.sk-toggleable__label-arrow:before {color: black;}#sk-container-id-2 div.sk-toggleable__content {max-height: 0;max-width: 0;overflow: hidden;text-align: left;background-color: #f0f8ff;}#sk-container-id-2 div.sk-toggleable__content pre {margin: 0.2em;color: black;border-radius: 0.25em;background-color: #f0f8ff;}#sk-container-id-2 input.sk-toggleable__control:checked~div.sk-toggleable__content {max-height: 200px;max-width: 100%;overflow: auto;}#sk-container-id-2 input.sk-toggleable__control:checked~label.sk-toggleable__label-arrow:before {content: \"▾\";}#sk-container-id-2 div.sk-estimator input.sk-toggleable__control:checked~label.sk-toggleable__label {background-color: #d4ebff;}#sk-container-id-2 div.sk-label input.sk-toggleable__control:checked~label.sk-toggleable__label {background-color: #d4ebff;}#sk-container-id-2 input.sk-hidden--visually {border: 0;clip: rect(1px 1px 1px 1px);clip: rect(1px, 1px, 1px, 1px);height: 1px;margin: -1px;overflow: hidden;padding: 0;position: absolute;width: 1px;}#sk-container-id-2 div.sk-estimator {font-family: monospace;background-color: #f0f8ff;border: 1px dotted black;border-radius: 0.25em;box-sizing: border-box;margin-bottom: 0.5em;}#sk-container-id-2 div.sk-estimator:hover {background-color: #d4ebff;}#sk-container-id-2 div.sk-parallel-item::after {content: \"\";width: 100%;border-bottom: 1px solid gray;flex-grow: 1;}#sk-container-id-2 div.sk-label:hover label.sk-toggleable__label {background-color: #d4ebff;}#sk-container-id-2 div.sk-serial::before {content: \"\";position: absolute;border-left: 1px solid gray;box-sizing: border-box;top: 0;bottom: 0;left: 50%;z-index: 0;}#sk-container-id-2 div.sk-serial {display: flex;flex-direction: column;align-items: center;background-color: white;padding-right: 0.2em;padding-left: 0.2em;position: relative;}#sk-container-id-2 div.sk-item {position: relative;z-index: 1;}#sk-container-id-2 div.sk-parallel {display: flex;align-items: stretch;justify-content: center;background-color: white;position: relative;}#sk-container-id-2 div.sk-item::before, #sk-container-id-2 div.sk-parallel-item::before {content: \"\";position: absolute;border-left: 1px solid gray;box-sizing: border-box;top: 0;bottom: 0;left: 50%;z-index: -1;}#sk-container-id-2 div.sk-parallel-item {display: flex;flex-direction: column;z-index: 1;position: relative;background-color: white;}#sk-container-id-2 div.sk-parallel-item:first-child::after {align-self: flex-end;width: 50%;}#sk-container-id-2 div.sk-parallel-item:last-child::after {align-self: flex-start;width: 50%;}#sk-container-id-2 div.sk-parallel-item:only-child::after {width: 0;}#sk-container-id-2 div.sk-dashed-wrapped {border: 1px dashed gray;margin: 0 0.4em 0.5em 0.4em;box-sizing: border-box;padding-bottom: 0.4em;background-color: white;}#sk-container-id-2 div.sk-label label {font-family: monospace;font-weight: bold;display: inline-block;line-height: 1.2em;}#sk-container-id-2 div.sk-label-container {text-align: center;}#sk-container-id-2 div.sk-container {/* jupyter's `normalize.less` sets `[hidden] { display: none; }` but bootstrap.min.css set `[hidden] { display: none !important; }` so we also need the `!important` here to be able to override the default hidden behavior on the sphinx rendered scikit-learn.org. See: https://github.com/scikit-learn/scikit-learn/issues/21755 */display: inline-block !important;position: relative;}#sk-container-id-2 div.sk-text-repr-fallback {display: none;}</style><div id=\"sk-container-id-2\" class=\"sk-top-container\"><div class=\"sk-text-repr-fallback\"><pre>RandomForestRegressor(n_estimators=10, random_state=0)</pre><b>In a Jupyter environment, please rerun this cell to show the HTML representation or trust the notebook. <br />On GitHub, the HTML representation is unable to render, please try loading this page with nbviewer.org.</b></div><div class=\"sk-container\" hidden><div class=\"sk-item\"><div class=\"sk-estimator sk-toggleable\"><input class=\"sk-toggleable__control sk-hidden--visually\" id=\"sk-estimator-id-2\" type=\"checkbox\" checked><label for=\"sk-estimator-id-2\" class=\"sk-toggleable__label sk-toggleable__label-arrow\">RandomForestRegressor</label><div class=\"sk-toggleable__content\"><pre>RandomForestRegressor(n_estimators=10, random_state=0)</pre></div></div></div></div></div>"
            ]
          },
          "metadata": {},
          "execution_count": 13
        }
      ]
    },
    {
      "cell_type": "markdown",
      "metadata": {
        "id": "8IbsXbK3YM4M"
      },
      "source": [
        "## Predicting a new result"
      ]
    },
    {
      "cell_type": "code",
      "source": [
        "y_predict = regressor.predict(X_test)\n",
        "np.set_printoptions(precision=2)\n",
        "print(np.concatenate((y_predict.reshape(len(y_predict),1),y_test.reshape(len(y_test),1)),1))"
      ],
      "metadata": {
        "colab": {
          "base_uri": "https://localhost:8080/"
        },
        "id": "eF3XwAB761Zb",
        "outputId": "e6767024-e8a0-4424-fbd4-118ab84da687"
      },
      "execution_count": 14,
      "outputs": [
        {
          "output_type": "stream",
          "name": "stdout",
          "text": [
            "[[698.23 518.35]\n",
            " [574.45 666.39]\n",
            " [674.15 954.74]\n",
            " [656.82 425.52]\n",
            " [524.79 700.96]\n",
            " [399.32 860.23]\n",
            " [327.99 518.16]\n",
            " [400.99 234.55]\n",
            " [315.09 696.26]\n",
            " [791.3  914.77]\n",
            " [338.06 999.15]\n",
            " [349.87 260.33]\n",
            " [605.93 507.71]\n",
            " [559.59 949.54]\n",
            " [603.12 263.81]\n",
            " [308.04 899.08]\n",
            " [353.37 209.  ]\n",
            " [223.46 463.4 ]\n",
            " [599.78 323.78]\n",
            " [206.72 287.53]\n",
            " [640.97 377.74]\n",
            " [754.61  89.89]\n",
            " [729.21 730.04]\n",
            " [302.72 498.42]\n",
            " [456.5  979.25]\n",
            " [467.47 801.3 ]\n",
            " [892.82 748.58]\n",
            " [459.47  82.47]\n",
            " [542.52 503.08]\n",
            " [513.75 969.33]\n",
            " [684.15 704.08]\n",
            " [594.06 804.89]\n",
            " [785.39 996.85]\n",
            " [301.25 238.18]\n",
            " [778.68 408.81]\n",
            " [575.75 734.67]\n",
            " [202.58 624.03]\n",
            " [660.22 143.41]\n",
            " [157.45  99.29]\n",
            " [506.14 350.95]\n",
            " [671.43 104.04]\n",
            " [734.32 387.87]\n",
            " [490.16 717.38]\n",
            " [843.61 705.29]\n",
            " [488.48 974.3 ]\n",
            " [261.36 942.42]\n",
            " [339.37 656.99]\n",
            " [733.27 960.47]\n",
            " [430.46 600.62]\n",
            " [806.05 799.95]\n",
            " [429.53 194.44]\n",
            " [754.86 304.69]\n",
            " [763.6  235.6 ]\n",
            " [535.17 387.23]\n",
            " [377.12 437.84]\n",
            " [563.8  677.89]\n",
            " [447.51 317.81]\n",
            " [318.56 156.75]\n",
            " [179.02 933.55]\n",
            " [311.83 863.47]\n",
            " [539.04 809.08]\n",
            " [146.86 764.89]\n",
            " [196.68 284.76]\n",
            " [425.56 670.9 ]\n",
            " [589.3  696.61]\n",
            " [562.68 125.67]\n",
            " [671.43 528.72]\n",
            " [588.71 556.11]\n",
            " [524.59 381.44]\n",
            " [620.73 336.37]\n",
            " [501.13 170.  ]\n",
            " [597.34 583.49]\n",
            " [183.73 912.88]\n",
            " [511.84 995.7 ]\n",
            " [633.98 530.11]\n",
            " [370.68 427.41]\n",
            " [535.3  313.34]\n",
            " [342.46 310.44]\n",
            " [452.38 295.46]\n",
            " [333.61 911.65]\n",
            " [459.33 147.2 ]\n",
            " [257.   504.5 ]\n",
            " [354.64 969.88]\n",
            " [549.17 911.9 ]\n",
            " [250.52 218.73]\n",
            " [216.88 861.27]\n",
            " [100.05 990.17]\n",
            " [379.05 443.67]\n",
            " [477.86 133.81]\n",
            " [674.37 786.17]\n",
            " [557.32 389.07]\n",
            " [391.03 638.93]\n",
            " [462.86 919.69]\n",
            " [711.65 800.6 ]\n",
            " [618.34 581.81]\n",
            " [818.24 146.92]\n",
            " [681.62 549.06]\n",
            " [561.59 135.09]\n",
            " [589.67 501.85]\n",
            " [572.29 971.23]\n",
            " [266.41 236.92]\n",
            " [692.33 246.64]\n",
            " [491.67 115.86]\n",
            " [646.01 183.9 ]\n",
            " [728.46 429.21]\n",
            " [612.64 538.32]\n",
            " [569.5  295.63]\n",
            " [242.95 978.46]\n",
            " [700.12 726.77]\n",
            " [439.38 478.25]\n",
            " [333.61 186.15]\n",
            " [481.36 479.63]\n",
            " [648.46 893.63]\n",
            " [569.58  53.17]\n",
            " [133.12 195.66]\n",
            " [376.07 801.04]\n",
            " [777.27 431.94]\n",
            " [844.87 762.1 ]\n",
            " [559.67 791.55]\n",
            " [710.27  86.46]\n",
            " [711.65 958.72]\n",
            " [574.23 325.39]\n",
            " [239.05 503.26]\n",
            " [820.14 299.57]\n",
            " [293.   389.35]\n",
            " [446.33 424.5 ]\n",
            " [712.08 686.55]\n",
            " [243.91 622.82]\n",
            " [458.91 238.89]\n",
            " [334.33 601.15]\n",
            " [308.04 916.88]\n",
            " [622.51 872.76]\n",
            " [592.31 717.18]\n",
            " [516.49 413.29]\n",
            " [223.44 296.28]\n",
            " [559.59 114.81]\n",
            " [587.03 212.24]\n",
            " [364.77 513.64]\n",
            " [450.5  622.81]\n",
            " [258.81 419.95]\n",
            " [433.49 690.95]\n",
            " [424.25 881.07]\n",
            " [245.16 194.09]\n",
            " [629.12 423.54]\n",
            " [694.94 571.03]\n",
            " [766.19 853.82]\n",
            " [436.87  91.69]\n",
            " [658.45 385.27]\n",
            " [566.31 910.06]\n",
            " [656.82  59.2 ]\n",
            " [349.13 893.01]\n",
            " [800.52 747.44]\n",
            " [247.58 968.29]\n",
            " [417.08 374.42]\n",
            " [702.05 230.33]\n",
            " [332.43 412.65]\n",
            " [604.32 282.4 ]\n",
            " [667.06 431.06]\n",
            " [247.62 201.4 ]\n",
            " [456.5  873.65]\n",
            " [356.67 105.92]\n",
            " [716.54 821.18]\n",
            " [603.95 167.96]\n",
            " [535.17 403.58]\n",
            " [807.19 745.18]\n",
            " [456.86 523.38]\n",
            " [535.3  433.13]\n",
            " [343.07 214.2 ]\n",
            " [296.06 125.48]\n",
            " [403.92 882.82]\n",
            " [539.04 984.04]\n",
            " [509.52 347.02]\n",
            " [827.7  179.95]\n",
            " [408.09 828.17]\n",
            " [329.82 784.33]\n",
            " [775.89 376.95]\n",
            " [123.3  127.56]\n",
            " [381.1  785.63]\n",
            " [729.06 215.47]\n",
            " [607.95 892.04]\n",
            " [233.65 412.13]\n",
            " [844.87 984.86]\n",
            " [601.93 171.36]\n",
            " [760.87 548.42]\n",
            " [464.4  496.65]\n",
            " [607.95 943.22]\n",
            " [316.44 706.28]\n",
            " [658.48 909.12]\n",
            " [823.54 348.37]\n",
            " [436.79 776.22]\n",
            " [542.52 685.38]\n",
            " [384.2  887.36]\n",
            " [314.36 304.68]\n",
            " [533.05 444.12]\n",
            " [421.33 202.56]\n",
            " [729.04  76.6 ]\n",
            " [574.23 194.15]\n",
            " [394.11 930.31]\n",
            " [242.3  959.6 ]\n",
            " [235.85  58.48]]\n"
          ]
        }
      ]
    },
    {
      "cell_type": "markdown",
      "metadata": {
        "id": "kLqF9yMbYTon"
      },
      "source": [
        "## Visualising the Random Forest Regression results (higher resolution)"
      ]
    },
    {
      "cell_type": "markdown",
      "source": [],
      "metadata": {
        "id": "EwkE90XeI5LN"
      }
    },
    {
      "cell_type": "markdown",
      "source": [
        "MODEL EVALUATION\n"
      ],
      "metadata": {
        "id": "V_2sIe_tJFrN"
      }
    },
    {
      "cell_type": "code",
      "source": [
        "from sklearn.metrics import r2_score\n",
        "r2_score(y_test, y_predict)"
      ],
      "metadata": {
        "id": "TFdlDhc6JO_0",
        "colab": {
          "base_uri": "https://localhost:8080/"
        },
        "outputId": "a66c28c4-242c-4bdc-930d-27ecb1e3956d"
      },
      "execution_count": 15,
      "outputs": [
        {
          "output_type": "execute_result",
          "data": {
            "text/plain": [
              "-0.41039836979590394"
            ]
          },
          "metadata": {},
          "execution_count": 15
        }
      ]
    },
    {
      "cell_type": "markdown",
      "source": [],
      "metadata": {
        "id": "uElLRzMEJDmW"
      }
    }
  ]
}